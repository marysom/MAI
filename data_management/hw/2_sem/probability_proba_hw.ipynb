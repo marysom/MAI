{
 "cells": [
  {
   "cell_type": "markdown",
   "metadata": {},
   "source": [
    "# HW1 Простые задачи на теорию вероятностей\n",
    "\n",
    "Решать задачи по терверу можно с помощью книжки [Теория вероятностей и математическая статистика : Базовый курс с примерами и задачами: учебное пособие Кибзун А.](https://biblioclub.ru/index.php?page=book&id=69320)\n",
    "\n",
    "## Задача 1\n",
    "\n",
    "Определить вероятность того, что случайно выбранный студент девочка. В группе 10 студентов, из которых 2 девочки"
   ]
  },
  {
   "cell_type": "code",
   "execution_count": 64,
   "metadata": {},
   "outputs": [
    {
     "name": "stdout",
     "output_type": "stream",
     "text": [
      "задача 1: P(A) = 0.20\n"
     ]
    }
   ],
   "source": [
    "import math\n",
    "# событие А: случайно выбранный студент - девочка\n",
    "# число случаев\n",
    "n = 10\n",
    "# число благоприятных исходов m: 2\n",
    "m = 2\n",
    "\n",
    "def task_1(num_students, num_girls):\n",
    "    # вычисляем вероятность\n",
    "    proba = num_girls / num_students\n",
    "    return proba\n",
    "\n",
    "proba = task_1(num_students=n, num_girls=m)\n",
    "print(f\"задача 1: P(A) = {proba:.2f}\")"
   ]
  },
  {
   "cell_type": "code",
   "execution_count": 65,
   "metadata": {},
   "outputs": [
    {
     "name": "stderr",
     "output_type": "stream",
     "text": [
      "test_task (__main__.TestNotebook) ... ok\n",
      "\n",
      "----------------------------------------------------------------------\n",
      "Ran 1 test in 0.001s\n",
      "\n",
      "OK\n"
     ]
    },
    {
     "data": {
      "text/plain": [
       "<unittest.main.TestProgram at 0x7f855866b910>"
      ]
     },
     "execution_count": 65,
     "metadata": {},
     "output_type": "execute_result"
    }
   ],
   "source": [
    "import unittest\n",
    "\n",
    "class TestNotebook(unittest.TestCase):\n",
    "    def test_task(self):\n",
    "        self.assertEqual(task_1(num_students=10, num_girls=2), 0.2)\n",
    "\n",
    "unittest.main(argv=[''], verbosity=2, exit=False)"
   ]
  },
  {
   "cell_type": "markdown",
   "metadata": {},
   "source": [
    "## Задача 2\n",
    "\n",
    "В отеле 20 номеров, из которых 12 выходят на море. В гостиницу заселяются 12 девочек и 8 мальчиков. Ключи с видом на море выдают в начале. Какова вероятность события, что все девочки будут жить в номерах с видом на море"
   ]
  },
  {
   "cell_type": "code",
   "execution_count": 66,
   "metadata": {},
   "outputs": [
    {
     "name": "stdout",
     "output_type": "stream",
     "text": [
      "задача 1: P(A) = 0.0000079384\n"
     ]
    }
   ],
   "source": [
    "def task_2(sea_rooms, num_boys, num_girls):\n",
    "    # число случаев\n",
    "    n = math.factorial(num_boys + num_girls)\n",
    "    # число благоприятных исходов m\n",
    "    m = math.factorial(sea_rooms)*math.factorial(num_boys)\n",
    "    # вычисляем вероятность\n",
    "    proba = m / n\n",
    "    return proba\n",
    "\n",
    "# событие А: последовательность людей, где первые 8 - девочки\n",
    "proba = task_2(sea_rooms=12, num_boys=8, num_girls=12)\n",
    "\n",
    "print(f\"задача 1: P(A) = {proba:.10f}\")"
   ]
  },
  {
   "cell_type": "code",
   "execution_count": 67,
   "metadata": {},
   "outputs": [
    {
     "name": "stderr",
     "output_type": "stream",
     "text": [
      "test_task (__main__.TestNotebook) ... ok\n",
      "\n",
      "----------------------------------------------------------------------\n",
      "Ran 1 test in 0.001s\n",
      "\n",
      "OK\n"
     ]
    },
    {
     "data": {
      "text/plain": [
       "<unittest.main.TestProgram at 0x7f8538166890>"
      ]
     },
     "execution_count": 67,
     "metadata": {},
     "output_type": "execute_result"
    }
   ],
   "source": [
    "import unittest\n",
    "\n",
    "\n",
    "class TestNotebook(unittest.TestCase):\n",
    "    def test_task(self):\n",
    "        self.assertAlmostEqual(task_2(sea_rooms=12, num_boys=8, num_girls=12), 0.0000079384, places=11)\n",
    "\n",
    "unittest.main(argv=[''], verbosity=2, exit=False)"
   ]
  },
  {
   "cell_type": "markdown",
   "metadata": {},
   "source": [
    "## Задача 3\n",
    "\n",
    "На полке стоят три тома. Найти вероятность того, что книги стоят в верном порядке."
   ]
  },
  {
   "cell_type": "code",
   "execution_count": 68,
   "metadata": {},
   "outputs": [
    {
     "name": "stdout",
     "output_type": "stream",
     "text": [
      "задача 1: P(A) = 0.333\n"
     ]
    }
   ],
   "source": [
    "import math\n",
    "\n",
    "def task_3():\n",
    "    # общее число случаев\n",
    "    n = math.factorial(3)\n",
    "    # число благоприятных исходов m \n",
    "    # либо либо порядок томов (1-2-3), либо (3-2-1)\n",
    "    m = 2\n",
    "    # вычисляем вероятность\n",
    "    proba = m / n\n",
    "    return proba\n",
    "\n",
    "# событие А: тома не перемешаны\n",
    "proba = task_3()\n",
    "\n",
    "print(f\"задача 1: P(A) = {proba:.3f}\")"
   ]
  },
  {
   "cell_type": "code",
   "execution_count": 69,
   "metadata": {},
   "outputs": [
    {
     "name": "stderr",
     "output_type": "stream",
     "text": [
      "test_task (__main__.TestNotebook) ... ok\n",
      "\n",
      "----------------------------------------------------------------------\n",
      "Ran 1 test in 0.001s\n",
      "\n",
      "OK\n"
     ]
    },
    {
     "data": {
      "text/plain": [
       "<unittest.main.TestProgram at 0x7f8538171210>"
      ]
     },
     "execution_count": 69,
     "metadata": {},
     "output_type": "execute_result"
    }
   ],
   "source": [
    "import unittest\n",
    "\n",
    "\n",
    "class TestNotebook(unittest.TestCase):\n",
    "    def test_task(self):\n",
    "        self.assertAlmostEqual(task_3(), 0.333, places=3)\n",
    "\n",
    "unittest.main(argv=[''], verbosity=2, exit=False)"
   ]
  },
  {
   "cell_type": "markdown",
   "metadata": {},
   "source": [
    "## Задача 4\n",
    "\n",
    "Бросают две монеты. Что более вероятно - что монеты выпадут одноимёнными сторонами, или разноимёнными."
   ]
  },
  {
   "cell_type": "code",
   "execution_count": 70,
   "metadata": {},
   "outputs": [
    {
     "name": "stdout",
     "output_type": "stream",
     "text": [
      "Одноимённые 0.5 Разноимённые 0.5\n"
     ]
    }
   ],
   "source": [
    "def task_4_same():\n",
    "    \"\"\"Вероятность того, что выпадут одноименными сторонами\"\"\"\n",
    "    m = 2 # РР или ОО\n",
    "    n = 4\n",
    "    return m/n\n",
    "\n",
    "def task_4_opposite():\n",
    "    \"\"\"Вероятность того, что выпадут разноименными сторонами\"\"\"\n",
    "    m = 2 # РО или ОР\n",
    "    n = 4\n",
    "    return m/n\n",
    "\n",
    "print(f'Одноимённые {task_4_same()} Разноимённые {task_4_opposite()}')"
   ]
  },
  {
   "cell_type": "code",
   "execution_count": 71,
   "metadata": {},
   "outputs": [
    {
     "name": "stderr",
     "output_type": "stream",
     "text": [
      "test_task (__main__.TestNotebook) ... ok\n",
      "\n",
      "----------------------------------------------------------------------\n",
      "Ran 1 test in 0.001s\n",
      "\n",
      "OK\n"
     ]
    },
    {
     "data": {
      "text/plain": [
       "<unittest.main.TestProgram at 0x7f85381660d0>"
      ]
     },
     "execution_count": 71,
     "metadata": {},
     "output_type": "execute_result"
    }
   ],
   "source": [
    "import unittest\n",
    "\n",
    "\n",
    "class TestNotebook(unittest.TestCase):\n",
    "    def test_task(self):\n",
    "        self.assertEqual(task_4_opposite(), task_4_same())\n",
    "\n",
    "unittest.main(argv=[''], verbosity=2, exit=False)"
   ]
  },
  {
   "cell_type": "markdown",
   "metadata": {},
   "source": [
    "## Задача 5\n",
    "\n",
    "На столе лежат 100 карточек числами от $1$ до $100$. Какова вероятность, что наугад выбранная карта содержит \n",
    "1. 0 \n",
    "1. 5"
   ]
  },
  {
   "cell_type": "code",
   "execution_count": 72,
   "metadata": {},
   "outputs": [
    {
     "name": "stdout",
     "output_type": "stream",
     "text": [
      "p=0.10\n",
      "p=0.19\n"
     ]
    }
   ],
   "source": [
    "def task_5_1():\n",
    "    \"\"\"Оличество карточек, в которых присутствует цифра ноль\"\"\"\n",
    "    m = 10\n",
    "    n = 100\n",
    "    return m/n\n",
    "\n",
    "def task_5_2():\n",
    "    \"\"\"Оличество карточек, в которых присутствует цифра пять\"\"\"\n",
    "    m = 19\n",
    "    n = 100\n",
    "    return m/n\n",
    "\n",
    "\n",
    "proba = task_5_1()\n",
    "print(f'p={proba:.2f}')\n",
    "\n",
    "proba = task_5_2()\n",
    "print(f'p={proba:.2f}')"
   ]
  },
  {
   "cell_type": "code",
   "execution_count": 73,
   "metadata": {},
   "outputs": [
    {
     "name": "stderr",
     "output_type": "stream",
     "text": [
      "test_task (__main__.TestNotebook) ... ok\n",
      "\n",
      "----------------------------------------------------------------------\n",
      "Ran 1 test in 0.001s\n",
      "\n",
      "OK\n"
     ]
    },
    {
     "data": {
      "text/plain": [
       "<unittest.main.TestProgram at 0x7f855866bf50>"
      ]
     },
     "execution_count": 73,
     "metadata": {},
     "output_type": "execute_result"
    }
   ],
   "source": [
    "import unittest\n",
    "\n",
    "\n",
    "class TestNotebook(unittest.TestCase):\n",
    "    def test_task(self):\n",
    "        self.assertAlmostEqual(task_5_1(), 0.1, places=3)\n",
    "        self.assertAlmostEqual(task_5_2(), 0.19, places=3)\n",
    "\n",
    "unittest.main(argv=[''], verbosity=2, exit=False)"
   ]
  },
  {
   "cell_type": "markdown",
   "metadata": {},
   "source": [
    "## Задача 6\n",
    "\n",
    "На столе лежат три письма и три конверта. Какова вероятность, что по адресу попадут\n",
    "1. Ни одно\n",
    "1. Ровно одно\n",
    "1. Ровно два"
   ]
  },
  {
   "cell_type": "code",
   "execution_count": 74,
   "metadata": {},
   "outputs": [
    {
     "name": "stdout",
     "output_type": "stream",
     "text": [
      "p=0.333\n",
      "p=0.500\n",
      "p=0.000\n"
     ]
    }
   ],
   "source": [
    "def task_6_1():\n",
    "    m = 2\n",
    "    n = math.factorial(3)\n",
    "    return m/n\n",
    "\n",
    "def task_6_2():\n",
    "    m = 3\n",
    "    n = math.factorial(3)\n",
    "    return m/n\n",
    "\n",
    "def task_6_3():\n",
    "    # опасный момент\n",
    "    m = 0 \n",
    "    n = math.factorial(3)\n",
    "    return m/n\n",
    "\n",
    "proba = task_6_1()\n",
    "print(f'p={proba:.3f}')\n",
    "\n",
    "proba = task_6_2()\n",
    "print(f'p={proba:.3f}')\n",
    "\n",
    "proba = task_6_3()\n",
    "print(f'p={proba:.3f}')"
   ]
  },
  {
   "cell_type": "code",
   "execution_count": 75,
   "metadata": {},
   "outputs": [
    {
     "name": "stderr",
     "output_type": "stream",
     "text": [
      "test_task (__main__.TestNotebook) ... ok\n",
      "\n",
      "----------------------------------------------------------------------\n",
      "Ran 1 test in 0.001s\n",
      "\n",
      "OK\n"
     ]
    },
    {
     "data": {
      "text/plain": [
       "<unittest.main.TestProgram at 0x7f853818a650>"
      ]
     },
     "execution_count": 75,
     "metadata": {},
     "output_type": "execute_result"
    }
   ],
   "source": [
    "import unittest\n",
    "\n",
    "\n",
    "class TestNotebook(unittest.TestCase):\n",
    "    def test_task(self):\n",
    "        self.assertAlmostEqual(task_6_1(), 0.333, places=3)\n",
    "        self.assertAlmostEqual(task_6_2(), 0.500, places=3)\n",
    "        self.assertAlmostEqual(task_6_3(), 0.000, places=3)\n",
    "\n",
    "unittest.main(argv=[''], verbosity=2, exit=False)"
   ]
  },
  {
   "cell_type": "markdown",
   "metadata": {},
   "source": [
    "## Задача 7\n",
    "\n",
    "Из карточек {1,2,3,4,5} собирают 5-ти значное число. Найти вероятность того, что число чётное (размещения)"
   ]
  },
  {
   "cell_type": "code",
   "execution_count": 76,
   "metadata": {},
   "outputs": [
    {
     "name": "stdout",
     "output_type": "stream",
     "text": [
      "p=0.40\n"
     ]
    }
   ],
   "source": [
    "def task_7():\n",
    "    m = 2*math.factorial(4)\n",
    "    n = math.factorial(5)\n",
    "    return m/n\n",
    "\n",
    "\n",
    "proba = task_7()\n",
    "print(f'p={proba:.2f}')\n"
   ]
  },
  {
   "cell_type": "code",
   "execution_count": 77,
   "metadata": {},
   "outputs": [
    {
     "name": "stderr",
     "output_type": "stream",
     "text": [
      "test_task (__main__.TestNotebook) ... ok\n",
      "\n",
      "----------------------------------------------------------------------\n",
      "Ran 1 test in 0.001s\n",
      "\n",
      "OK\n"
     ]
    },
    {
     "data": {
      "text/plain": [
       "<unittest.main.TestProgram at 0x7f855866b1d0>"
      ]
     },
     "execution_count": 77,
     "metadata": {},
     "output_type": "execute_result"
    }
   ],
   "source": [
    "import unittest\n",
    "\n",
    "\n",
    "class TestNotebook(unittest.TestCase):\n",
    "    def test_task(self):\n",
    "        self.assertAlmostEqual(task_7(), 0.4, places=2)\n",
    "\n",
    "unittest.main(argv=[''], verbosity=2, exit=False)"
   ]
  },
  {
   "cell_type": "markdown",
   "metadata": {},
   "source": [
    "## Задача 8\n",
    "\n",
    "На стол бросают (по одной) три игральные кости. Найти вероятность того, что все цифры будут разными (размещение с повторением)"
   ]
  },
  {
   "cell_type": "code",
   "execution_count": 78,
   "metadata": {},
   "outputs": [
    {
     "name": "stdout",
     "output_type": "stream",
     "text": [
      "p=0.556\n"
     ]
    }
   ],
   "source": [
    "def task_8():\n",
    "    m = 6*5*4\n",
    "    n = 6**3\n",
    "    return m/n\n",
    "\n",
    "\n",
    "proba = task_8()\n",
    "print(f'p={proba:.3f}')\n"
   ]
  },
  {
   "cell_type": "code",
   "execution_count": 79,
   "metadata": {},
   "outputs": [
    {
     "name": "stderr",
     "output_type": "stream",
     "text": [
      "test_task (__main__.TestNotebook) ... ok\n",
      "\n",
      "----------------------------------------------------------------------\n",
      "Ran 1 test in 0.001s\n",
      "\n",
      "OK\n"
     ]
    },
    {
     "data": {
      "text/plain": [
       "<unittest.main.TestProgram at 0x7f8538166c90>"
      ]
     },
     "execution_count": 79,
     "metadata": {},
     "output_type": "execute_result"
    }
   ],
   "source": [
    "import unittest\n",
    "\n",
    "\n",
    "class TestNotebook(unittest.TestCase):\n",
    "    def test_task(self):\n",
    "        self.assertAlmostEqual(task_8(), 0.556, places=2)\n",
    "\n",
    "unittest.main(argv=[''], verbosity=2, exit=False)"
   ]
  },
  {
   "cell_type": "markdown",
   "metadata": {},
   "source": [
    "## Задача 9\n",
    "\n",
    "В пачке M&M's 5 красных, 8 жёлтых и 20 синих драже. Из пачки выпало 3 штуки. Найти вероятность того, что все они красные (сочетание)"
   ]
  },
  {
   "cell_type": "code",
   "execution_count": 80,
   "metadata": {},
   "outputs": [
    {
     "name": "stdout",
     "output_type": "stream",
     "text": [
      "p=0.00183\n"
     ]
    }
   ],
   "source": [
    "def task_9():\n",
    "    m = math.factorial(5)/(math.factorial(3)*math.factorial(2))\n",
    "    n = math.factorial(33)/(math.factorial(3)*math.factorial(30))\n",
    "    return m/n\n",
    "\n",
    "\n",
    "proba = task_9()\n",
    "print(f'p={proba:.5f}')"
   ]
  },
  {
   "cell_type": "code",
   "execution_count": 81,
   "metadata": {},
   "outputs": [
    {
     "name": "stderr",
     "output_type": "stream",
     "text": [
      "test_task (__main__.TestNotebook) ... ok\n",
      "\n",
      "----------------------------------------------------------------------\n",
      "Ran 1 test in 0.001s\n",
      "\n",
      "OK\n"
     ]
    },
    {
     "data": {
      "text/plain": [
       "<unittest.main.TestProgram at 0x7f85381964d0>"
      ]
     },
     "execution_count": 81,
     "metadata": {},
     "output_type": "execute_result"
    }
   ],
   "source": [
    "import unittest\n",
    "\n",
    "\n",
    "class TestNotebook(unittest.TestCase):\n",
    "    def test_task(self):\n",
    "        self.assertAlmostEqual(task_9(), 0.00183, places=5)\n",
    "\n",
    "unittest.main(argv=[''], verbosity=2, exit=False)"
   ]
  },
  {
   "cell_type": "markdown",
   "metadata": {},
   "source": [
    "## Задача 10\n",
    "\n",
    "В лотерее 6 выигрышных билетов из 49-ти. Наугад берут 6 билетов. Какова вероятность того, что \n",
    "\n",
    "1. среди них будет ровно три выигрышных? \n",
    "1. хотя бы один выигрышный?"
   ]
  },
  {
   "cell_type": "code",
   "execution_count": 162,
   "metadata": {},
   "outputs": [
    {
     "name": "stdout",
     "output_type": "stream",
     "text": [
      "p=0.01765040\n",
      "p=0.56403502\n"
     ]
    }
   ],
   "source": [
    "def task_10_1():\n",
    "    m = (math.factorial(6)/(math.factorial(3)*math.factorial(6-3)))*(math.factorial(43)/(math.factorial(3)*math.factorial(43-3)))\n",
    "    n = math.factorial(49)/(math.factorial(6)*math.factorial(49-6))\n",
    "    return m/n\n",
    "\n",
    "\n",
    "def task_10_2():\n",
    "    m = math.factorial(43)/(math.factorial(6)*math.factorial(43-6))\n",
    "    n = math.factorial(49)/(math.factorial(6)*math.factorial(49-6))\n",
    "    return 1. - m/n\n",
    "\n",
    "\n",
    "proba = task_10_1()\n",
    "print(f'p={proba:.8f}')\n",
    "\n",
    "proba = task_10_2()\n",
    "print(f'p={proba:.8f}')"
   ]
  },
  {
   "cell_type": "code",
   "execution_count": 163,
   "metadata": {},
   "outputs": [
    {
     "name": "stderr",
     "output_type": "stream",
     "text": [
      "test_task (__main__.TestNotebook) ... ok\n",
      "\n",
      "----------------------------------------------------------------------\n",
      "Ran 1 test in 0.001s\n",
      "\n",
      "OK\n"
     ]
    },
    {
     "data": {
      "text/plain": [
       "<unittest.main.TestProgram at 0x7f8598229ed0>"
      ]
     },
     "execution_count": 163,
     "metadata": {},
     "output_type": "execute_result"
    }
   ],
   "source": [
    "import unittest\n",
    "\n",
    "\n",
    "class TestNotebook(unittest.TestCase):\n",
    "    def test_task(self):\n",
    "        self.assertAlmostEqual(task_10_1(), 0.01765040, places=8)\n",
    "        self.assertAlmostEqual(task_10_2(), 0.56403502, places=8)\n",
    "\n",
    "unittest.main(argv=[''], verbosity=2, exit=False)"
   ]
  },
  {
   "cell_type": "markdown",
   "metadata": {},
   "source": [
    "## Задача 11\n",
    "\n",
    "В урне 10 белых и 5 чёрных шаров. Потеряли 2 шара. Наугад извлекают три шара и все они белые. Найти вероятность того, что обы утерянных шара чёрные (условная вероятность)."
   ]
  },
  {
   "cell_type": "code",
   "execution_count": 82,
   "metadata": {},
   "outputs": [
    {
     "name": "stdout",
     "output_type": "stream",
     "text": [
      "p=0.152\n"
     ]
    }
   ],
   "source": [
    "def task_11():\n",
    "    h1 = (5/15)*(4/14) # ЧЧ\n",
    "    h2 = (5/15)*(10/14) + (10/15)*(5/14) #ЧБ\n",
    "    h3 = (10/15)*(9/14) #ББ\n",
    "    a_h1 = h1*(10/13)*(9/12)*(8/11)\n",
    "    a_h2 = h2*(9/13)*(8/12)*(7/11)\n",
    "    a_h3 = h3*(8/13)*(7/12)*(6/11)\n",
    "    return a_h1/(a_h1 + a_h2 + a_h3)\n",
    "\n",
    "proba = task_11()\n",
    "print(f'p={proba:.3f}')"
   ]
  },
  {
   "cell_type": "code",
   "execution_count": 83,
   "metadata": {},
   "outputs": [
    {
     "name": "stderr",
     "output_type": "stream",
     "text": [
      "test_task (__main__.TestNotebook) ... ok\n",
      "\n",
      "----------------------------------------------------------------------\n",
      "Ran 1 test in 0.001s\n",
      "\n",
      "OK\n"
     ]
    },
    {
     "data": {
      "text/plain": [
       "<unittest.main.TestProgram at 0x7f854861b890>"
      ]
     },
     "execution_count": 83,
     "metadata": {},
     "output_type": "execute_result"
    }
   ],
   "source": [
    "import unittest\n",
    "\n",
    "\n",
    "class TestNotebook(unittest.TestCase):\n",
    "    def test_task(self):\n",
    "        self.assertAlmostEqual(task_11(), 0.152, places=3)\n",
    "\n",
    "unittest.main(argv=[''], verbosity=2, exit=False)"
   ]
  },
  {
   "cell_type": "markdown",
   "metadata": {},
   "source": [
    "## Задача 12\n",
    "\n",
    "В связке 20 ключей, нужно открыть одну дверь. Найти вероятность того, что до успеха придётся перебрать ровно половину"
   ]
  },
  {
   "cell_type": "code",
   "execution_count": 84,
   "metadata": {},
   "outputs": [
    {
     "name": "stdout",
     "output_type": "stream",
     "text": [
      "p=0.05\n"
     ]
    }
   ],
   "source": [
    "def task_12():\n",
    "    m = math.factorial(19)/(math.factorial(9)*math.factorial(19-9))\n",
    "    n = math.factorial(20)/(math.factorial(9)*math.factorial(20-9))\n",
    "    return (1/11)*m/n\n",
    "\n",
    "\n",
    "proba = task_12()\n",
    "print(f'p={proba:.2f}')"
   ]
  },
  {
   "cell_type": "code",
   "execution_count": 85,
   "metadata": {},
   "outputs": [
    {
     "name": "stderr",
     "output_type": "stream",
     "text": [
      "test_task (__main__.TestNotebook) ... ok\n",
      "\n",
      "----------------------------------------------------------------------\n",
      "Ran 1 test in 0.001s\n",
      "\n",
      "OK\n"
     ]
    },
    {
     "data": {
      "text/plain": [
       "<unittest.main.TestProgram at 0x7f853818a250>"
      ]
     },
     "execution_count": 85,
     "metadata": {},
     "output_type": "execute_result"
    }
   ],
   "source": [
    "import unittest\n",
    "\n",
    "\n",
    "class TestNotebook(unittest.TestCase):\n",
    "    def test_task(self):\n",
    "        self.assertAlmostEqual(task_12(), 0.05, places=2)\n",
    "\n",
    "unittest.main(argv=[''], verbosity=2, exit=False)"
   ]
  },
  {
   "cell_type": "markdown",
   "metadata": {},
   "source": [
    "## Задача 13\n",
    "\n",
    "На стол выкладывают карточки аз набора {А, А, А, Н, Н, С}. Найти вероятность того, что получится слово *АНАНАС*"
   ]
  },
  {
   "cell_type": "code",
   "execution_count": 86,
   "metadata": {},
   "outputs": [
    {
     "name": "stdout",
     "output_type": "stream",
     "text": [
      "p=0.017\n"
     ]
    }
   ],
   "source": [
    "def task_13():\n",
    "    m = math.factorial(3)*math.factorial(2)\n",
    "    n = math.factorial(6)\n",
    "    return m/n\n",
    "\n",
    "\n",
    "proba = task_13()\n",
    "print(f'p={proba:.3f}')"
   ]
  },
  {
   "cell_type": "code",
   "execution_count": 87,
   "metadata": {},
   "outputs": [
    {
     "name": "stderr",
     "output_type": "stream",
     "text": [
      "test_task (__main__.TestNotebook) ... ok\n",
      "\n",
      "----------------------------------------------------------------------\n",
      "Ran 1 test in 0.001s\n",
      "\n",
      "OK\n"
     ]
    },
    {
     "data": {
      "text/plain": [
       "<unittest.main.TestProgram at 0x7f85381a21d0>"
      ]
     },
     "execution_count": 87,
     "metadata": {},
     "output_type": "execute_result"
    }
   ],
   "source": [
    "import unittest\n",
    "\n",
    "\n",
    "class TestNotebook(unittest.TestCase):\n",
    "    def test_task(self):\n",
    "        self.assertAlmostEqual(task_13(), 0.017, places=3)\n",
    "\n",
    "unittest.main(argv=[''], verbosity=2, exit=False)"
   ]
  },
  {
   "cell_type": "markdown",
   "metadata": {},
   "source": [
    "## Задача 14\n",
    "\n",
    "В баре 30 мест, 5 человек бронируют места. Найти вероятность того, что все места будут разными."
   ]
  },
  {
   "cell_type": "code",
   "execution_count": 207,
   "metadata": {},
   "outputs": [
    {
     "name": "stdout",
     "output_type": "stream",
     "text": [
      "p=0.70373333333333332185\n"
     ]
    }
   ],
   "source": [
    "def task_14(): \n",
    "    # не очень понятно условие задачи, как расположены места (ряд или по кругу) \n",
    "    # что значит \"будут разными\" - будут сидеть не рядом или именно не попытаются забронировать одно и то же место\n",
    "    m = 30*29*28*27*26\n",
    "    n = 30**5\n",
    "    return m/n\n",
    "\n",
    "\n",
    "proba = task_14()\n",
    "print(f'p={proba:.20f}')"
   ]
  },
  {
   "cell_type": "code",
   "execution_count": 208,
   "metadata": {},
   "outputs": [
    {
     "name": "stderr",
     "output_type": "stream",
     "text": [
      "test_task (__main__.TestNotebook) ... FAIL\n",
      "\n",
      "======================================================================\n",
      "FAIL: test_task (__main__.TestNotebook)\n",
      "----------------------------------------------------------------------\n",
      "Traceback (most recent call last):\n",
      "  File \"<ipython-input-208-145594685a9f>\", line 6, in test_task\n",
      "    self.assertAlmostEqual(task_14(), 0.000007017, places=9)\n",
      "AssertionError: 0.7037333333333333 != 7.017e-06 within 9 places (0.7037263163333333 difference)\n",
      "\n",
      "----------------------------------------------------------------------\n",
      "Ran 1 test in 0.001s\n",
      "\n",
      "FAILED (failures=1)\n"
     ]
    },
    {
     "data": {
      "text/plain": [
       "<unittest.main.TestProgram at 0x7f8558725110>"
      ]
     },
     "execution_count": 208,
     "metadata": {},
     "output_type": "execute_result"
    }
   ],
   "source": [
    "import unittest\n",
    "\n",
    "\n",
    "class TestNotebook(unittest.TestCase):\n",
    "    def test_task(self):\n",
    "        self.assertAlmostEqual(task_14(), 0.000007017, places=9)\n",
    "\n",
    "unittest.main(argv=[''], verbosity=2, exit=False)"
   ]
  },
  {
   "cell_type": "markdown",
   "metadata": {},
   "source": [
    "## Задача 15\n",
    "\n",
    "В корзине  6 белых, 5 синих и 4 красных. Шары извлекают по одному без возвращения до появления красного шара. Найти вероятность того, что придётся извлечь не менее 4-х шаров."
   ]
  },
  {
   "cell_type": "code",
   "execution_count": 88,
   "metadata": {},
   "outputs": [
    {
     "name": "stdout",
     "output_type": "stream",
     "text": [
      "p=0.363\n"
     ]
    }
   ],
   "source": [
    "def task_15():\n",
    "    m = 3\n",
    "    n = 13*7*5\n",
    "    return 1 - ( 4/15 + (11/15)*(4/14) + (11/15)*(10/14)*(4/13))\n",
    "\n",
    "\n",
    "proba = task_15()\n",
    "print(f'p={proba:.3f}')"
   ]
  },
  {
   "cell_type": "code",
   "execution_count": 89,
   "metadata": {},
   "outputs": [
    {
     "name": "stderr",
     "output_type": "stream",
     "text": [
      "test_task (__main__.TestNotebook) ... ok\n",
      "\n",
      "----------------------------------------------------------------------\n",
      "Ran 1 test in 0.001s\n",
      "\n",
      "OK\n"
     ]
    },
    {
     "data": {
      "text/plain": [
       "<unittest.main.TestProgram at 0x7f8538198710>"
      ]
     },
     "execution_count": 89,
     "metadata": {},
     "output_type": "execute_result"
    }
   ],
   "source": [
    "import unittest\n",
    "\n",
    "\n",
    "class TestNotebook(unittest.TestCase):\n",
    "    def test_task(self):\n",
    "        self.assertAlmostEqual(task_15(), 0.363, places=3)\n",
    "\n",
    "unittest.main(argv=[''], verbosity=2, exit=False)"
   ]
  },
  {
   "cell_type": "markdown",
   "metadata": {},
   "source": [
    "## Задача 16\n",
    "\n",
    "Две ладьи (белая и чёрная) ставятся на доску наугад. Что более вероятно \n",
    "\n",
    "* (а) будут друг друга бить или\n",
    "* (б) не будут."
   ]
  },
  {
   "cell_type": "code",
   "execution_count": 90,
   "metadata": {},
   "outputs": [
    {
     "name": "stdout",
     "output_type": "stream",
     "text": [
      "p=0.222\n",
      "p=0.778\n"
     ]
    }
   ],
   "source": [
    "def task_16_1():\n",
    "    m = 14\n",
    "    n = 63\n",
    "    return m/n\n",
    "\n",
    "\n",
    "def task_16_2():\n",
    "    m = 49\n",
    "    n = 63\n",
    "    return m/n\n",
    "\n",
    "\n",
    "proba = task_16_1()\n",
    "print(f'p={proba:.3f}')\n",
    "\n",
    "proba = task_16_2()\n",
    "print(f'p={proba:.3f}')"
   ]
  },
  {
   "cell_type": "code",
   "execution_count": 91,
   "metadata": {},
   "outputs": [
    {
     "name": "stderr",
     "output_type": "stream",
     "text": [
      "test_task (__main__.TestNotebook) ... ok\n",
      "\n",
      "----------------------------------------------------------------------\n",
      "Ran 1 test in 0.001s\n",
      "\n",
      "OK\n"
     ]
    },
    {
     "data": {
      "text/plain": [
       "<unittest.main.TestProgram at 0x7f853813ab10>"
      ]
     },
     "execution_count": 91,
     "metadata": {},
     "output_type": "execute_result"
    }
   ],
   "source": [
    "import unittest\n",
    "\n",
    "\n",
    "class TestNotebook(unittest.TestCase):\n",
    "    def test_task(self):\n",
    "        self.assertAlmostEqual(task_16_1(), 0.222, places=3)\n",
    "        self.assertAlmostEqual(task_16_2(), 0.778, places=3)\n",
    "\n",
    "unittest.main(argv=[''], verbosity=2, exit=False)"
   ]
  },
  {
   "cell_type": "markdown",
   "metadata": {},
   "source": [
    "## Задача 17\n",
    "\n",
    "Рассчитать вероятность «счастливого билета».\n",
    "\n",
    "Цифр в номере шесть. Счастливым считается билет, сумма первых трех цифр которого совпадает с суммой оставшихся."
   ]
  },
  {
   "cell_type": "code",
   "execution_count": 92,
   "metadata": {},
   "outputs": [
    {
     "name": "stdout",
     "output_type": "stream",
     "text": [
      "p=0.055\n"
     ]
    }
   ],
   "source": [
    "def task_17():\n",
    "    m = 0\n",
    "    for k in range(3):\n",
    "        m += (-1)**k * (math.factorial(6)/(math.factorial(k)*math.factorial(6-k))) * (math.factorial(32 - 10*k)/(math.factorial(5)*math.factorial(32 - 10*k - 5)))\n",
    "    n = 1000000\n",
    "    return m/n\n",
    "\n",
    "proba = task_17()\n",
    "print(f'p={proba:.3f}')\n"
   ]
  },
  {
   "cell_type": "code",
   "execution_count": 93,
   "metadata": {},
   "outputs": [
    {
     "name": "stderr",
     "output_type": "stream",
     "text": [
      "test_task (__main__.TestNotebook) ... ok\n",
      "\n",
      "----------------------------------------------------------------------\n",
      "Ran 1 test in 0.001s\n",
      "\n",
      "OK\n"
     ]
    },
    {
     "data": {
      "text/plain": [
       "<unittest.main.TestProgram at 0x7f85381a8790>"
      ]
     },
     "execution_count": 93,
     "metadata": {},
     "output_type": "execute_result"
    }
   ],
   "source": [
    "import unittest\n",
    "\n",
    "\n",
    "class TestNotebook(unittest.TestCase):\n",
    "    def test_task(self):\n",
    "        self.assertAlmostEqual(task_17(), 0.055, places=3)\n",
    "\n",
    "unittest.main(argv=[''], verbosity=2, exit=False)"
   ]
  },
  {
   "cell_type": "markdown",
   "metadata": {},
   "source": [
    "### Проверка домашек"
   ]
  },
  {
   "cell_type": "code",
   "execution_count": 206,
   "metadata": {},
   "outputs": [
    {
     "name": "stderr",
     "output_type": "stream",
     "text": [
      "test_task (__main__.TestNotebook) ... FAIL\n",
      "\n",
      "======================================================================\n",
      "FAIL: test_task (__main__.TestNotebook)\n",
      "----------------------------------------------------------------------\n",
      "Traceback (most recent call last):\n",
      "  File \"<ipython-input-206-9e2cbc771ac1>\", line 21, in test_task\n",
      "    self.assertAlmostEqual(task_14(), 0.703733333, places=9)\n",
      "AssertionError: 0.9999012345679013 != 0.703733333 within 9 places (0.2961679015679013 difference)\n",
      "\n",
      "----------------------------------------------------------------------\n",
      "Ran 1 test in 0.001s\n",
      "\n",
      "FAILED (failures=1)\n"
     ]
    },
    {
     "data": {
      "text/plain": [
       "<unittest.main.TestProgram at 0x7f854876b590>"
      ]
     },
     "execution_count": 206,
     "metadata": {},
     "output_type": "execute_result"
    }
   ],
   "source": [
    "import unittest\n",
    "\n",
    "\n",
    "class TestNotebook(unittest.TestCase):\n",
    "    def test_task(self):\n",
    "        self.assertEqual(task_1(num_students=10, num_girls=2), 0.2)\n",
    "        self.assertAlmostEqual(task_2(sea_rooms=12, num_boys=8, num_girls=12), 0.0000079384, places=11)\n",
    "        self.assertAlmostEqual(task_3(), 0.333, places=3)\n",
    "        self.assertEqual(task_4_opposite(), task_4_same())\n",
    "        self.assertAlmostEqual(task_6_1(), 1/3, places=3)\n",
    "        self.assertAlmostEqual(task_6_2(), 0.5, places=3)\n",
    "        self.assertAlmostEqual(task_6_3(), 0, places=3)\n",
    "        self.assertAlmostEqual(task_7(), 0.4, places=2)\n",
    "        self.assertAlmostEqual(task_8(), 0.556, places=3)\n",
    "        self.assertAlmostEqual(task_9(), 0.00183, places=5)\n",
    "        self.assertAlmostEqual(task_10_1(), 0.01765040, places=8)\n",
    "        self.assertAlmostEqual(task_10_2(), 0.56403502, places=8)\n",
    "        self.assertAlmostEqual(task_11(), 0.152, places=3)\n",
    "        self.assertAlmostEqual(task_12(), 0.05, places=2)\n",
    "        self.assertAlmostEqual(task_13(), 0.017, places=3)\n",
    "        self.assertAlmostEqual(task_14(), 0.703733333, places=9)\n",
    "        self.assertAlmostEqual(task_15(), 0.363, places=3)\n",
    "        self.assertAlmostEqual(task_16_1(), 0.222, places=3)\n",
    "        self.assertAlmostEqual(task_16_2(), 0.778, places=3)\n",
    "        self.assertAlmostEqual(task_17(), 0.055, places=3)\n",
    "\n",
    "unittest.main(argv=[''], verbosity=2, exit=False)"
   ]
  },
  {
   "cell_type": "markdown",
   "metadata": {},
   "source": [
    "# HW2: формулы вычисления вероятностей"
   ]
  },
  {
   "cell_type": "markdown",
   "metadata": {},
   "source": [
    "## Задача 18\n",
    "\n",
    "На ресурсе 30% пользователей iOS, На Android конверсия в покупку фильма 0.05, на iOS 0.08. Пользователь совершает покупку. Найти вероятность, что это пользователь Android."
   ]
  },
  {
   "cell_type": "code",
   "execution_count": 97,
   "metadata": {},
   "outputs": [
    {
     "name": "stdout",
     "output_type": "stream",
     "text": [
      "p=0.593\n"
     ]
    }
   ],
   "source": [
    "def task_18():\n",
    "    p = 0.7*0.05/(0.7*0.05 + 0.3*0.08)\n",
    "    return p\n",
    "\n",
    "\n",
    "proba = task_18()\n",
    "print(f'p={proba:.3f}')"
   ]
  },
  {
   "cell_type": "code",
   "execution_count": 98,
   "metadata": {},
   "outputs": [
    {
     "name": "stderr",
     "output_type": "stream",
     "text": [
      "test_task (__main__.TestNotebook) ... ok\n",
      "\n",
      "----------------------------------------------------------------------\n",
      "Ran 1 test in 0.001s\n",
      "\n",
      "OK\n"
     ]
    },
    {
     "data": {
      "text/plain": [
       "<unittest.main.TestProgram at 0x7f85381a8810>"
      ]
     },
     "execution_count": 98,
     "metadata": {},
     "output_type": "execute_result"
    }
   ],
   "source": [
    "import unittest\n",
    "\n",
    "\n",
    "class TestNotebook(unittest.TestCase):\n",
    "    def test_task(self):\n",
    "        self.assertAlmostEqual(task_18(), 0.593, places=3)\n",
    "\n",
    "unittest.main(argv=[''], verbosity=2, exit=False)"
   ]
  },
  {
   "cell_type": "markdown",
   "metadata": {},
   "source": [
    "## Задача 19\n",
    "\n",
    "Вероятность встретить частицу в течение минуты $p$. Какова вероятность встретить хотя бы одну частицу в течение 30 минут?"
   ]
  },
  {
   "cell_type": "code",
   "execution_count": 100,
   "metadata": {},
   "outputs": [
    {
     "name": "stdout",
     "output_type": "stream",
     "text": [
      "p=0.78536\n"
     ]
    }
   ],
   "source": [
    "def task_19(p):\n",
    "    return 1 - (1-p)**30\n",
    "\n",
    "\n",
    "proba = task_19(0.05)\n",
    "print(f'p={proba:.5f}')"
   ]
  },
  {
   "cell_type": "code",
   "execution_count": 101,
   "metadata": {},
   "outputs": [
    {
     "name": "stderr",
     "output_type": "stream",
     "text": [
      "test_task (__main__.TestNotebook) ... ok\n",
      "\n",
      "----------------------------------------------------------------------\n",
      "Ran 1 test in 0.001s\n",
      "\n",
      "OK\n"
     ]
    },
    {
     "data": {
      "text/plain": [
       "<unittest.main.TestProgram at 0x7f85381c1610>"
      ]
     },
     "execution_count": 101,
     "metadata": {},
     "output_type": "execute_result"
    }
   ],
   "source": [
    "import unittest\n",
    "\n",
    "\n",
    "class TestNotebook(unittest.TestCase):\n",
    "    def test_task(self):\n",
    "        self.assertAlmostEqual(task_19(0.05), 0.78536, places=5)\n",
    "\n",
    "unittest.main(argv=[''], verbosity=2, exit=False)"
   ]
  },
  {
   "cell_type": "markdown",
   "metadata": {},
   "source": [
    "## Задача 20\n",
    "\n",
    "Тест на болезнь имеет вероятность ошибки 0.1 (как позитивной, так и негативной). Достоверно известно, что болеет 10% населения. Какая вероятность того, что человек болен, если у него позитивный результат теста?"
   ]
  },
  {
   "cell_type": "code",
   "execution_count": 102,
   "metadata": {},
   "outputs": [
    {
     "name": "stdout",
     "output_type": "stream",
     "text": [
      "p=0.50\n"
     ]
    }
   ],
   "source": [
    "def task_20():\n",
    "    p = 0.1\n",
    "    q = 0.1\n",
    "    return (p - q*p)/(p + q - 2*q*p)\n",
    "\n",
    "\n",
    "proba = task_20()\n",
    "print(f'p={proba:.2f}')"
   ]
  },
  {
   "cell_type": "code",
   "execution_count": 103,
   "metadata": {},
   "outputs": [
    {
     "name": "stderr",
     "output_type": "stream",
     "text": [
      "test_task (__main__.TestNotebook) ... ok\n",
      "\n",
      "----------------------------------------------------------------------\n",
      "Ran 1 test in 0.001s\n",
      "\n",
      "OK\n"
     ]
    },
    {
     "data": {
      "text/plain": [
       "<unittest.main.TestProgram at 0x7f85381d7150>"
      ]
     },
     "execution_count": 103,
     "metadata": {},
     "output_type": "execute_result"
    }
   ],
   "source": [
    "import unittest\n",
    "\n",
    "\n",
    "class TestNotebook(unittest.TestCase):\n",
    "    def test_task(self):\n",
    "        self.assertAlmostEqual(task_20(), 0.5, places=2)\n",
    "\n",
    "unittest.main(argv=[''], verbosity=2, exit=False)"
   ]
  },
  {
   "cell_type": "markdown",
   "metadata": {},
   "source": [
    "## Задача 21\n",
    "\n",
    "Что вероятнее с равносильным противником - выиграть 3 партии из 4-х, или 5 из 8-ми?(схема Бернулли)"
   ]
  },
  {
   "cell_type": "code",
   "execution_count": 104,
   "metadata": {},
   "outputs": [
    {
     "name": "stdout",
     "output_type": "stream",
     "text": [
      "p1 > p2: (0.25000000000000006, 0.21875000000000014)\n"
     ]
    }
   ],
   "source": [
    "from scipy.stats import binom\n",
    "\n",
    "\n",
    "def task_21_1():\n",
    "    m = 3\n",
    "    n = 4\n",
    "    p = 0.5\n",
    "    # биномиально распределённая СВ\n",
    "    rv = binom(n, p)\n",
    "    # вероятность заданного числа успехов\n",
    "    p = rv.pmf(m)\n",
    "    return p\n",
    "\n",
    "\n",
    "def task_21_2():\n",
    "    m = 5\n",
    "    n = 8\n",
    "    p = 0.5\n",
    "    # биномиально распределённая СВ\n",
    "    rv = binom(n, p)\n",
    "    # вероятность заданного числа успехов\n",
    "    p = rv.pmf(m)\n",
    "    return p\n",
    "\n",
    "\n",
    "\n",
    "proba1 = task_21_1()\n",
    "proba2 = task_21_2()\n",
    "\n",
    "print(f'p1 > p2: {proba1, proba2}')"
   ]
  },
  {
   "cell_type": "code",
   "execution_count": 105,
   "metadata": {},
   "outputs": [
    {
     "name": "stderr",
     "output_type": "stream",
     "text": [
      "test_task (__main__.TestNotebook) ... ok\n",
      "\n",
      "----------------------------------------------------------------------\n",
      "Ran 1 test in 0.003s\n",
      "\n",
      "OK\n"
     ]
    },
    {
     "data": {
      "text/plain": [
       "<unittest.main.TestProgram at 0x7f85381b8290>"
      ]
     },
     "execution_count": 105,
     "metadata": {},
     "output_type": "execute_result"
    }
   ],
   "source": [
    "import unittest\n",
    "\n",
    "\n",
    "class TestNotebook(unittest.TestCase):\n",
    "    def test_task(self):\n",
    "        self.assertAlmostEqual(task_21_1(), 0.25, places=2)\n",
    "        self.assertAlmostEqual(task_21_2(), 0.21875, places=5)\n",
    "\n",
    "unittest.main(argv=[''], verbosity=2, exit=False)"
   ]
  },
  {
   "cell_type": "markdown",
   "metadata": {},
   "source": [
    "## Задача 22\n",
    "\n",
    "Каждый 10-й договор страховой компании завершается выплатой. Компания заключила 5 договоров. Найти вероятность того, что случится хотя бы случится хотя бы один случай. (схема Бернулли)"
   ]
  },
  {
   "cell_type": "code",
   "execution_count": 106,
   "metadata": {},
   "outputs": [
    {
     "name": "stdout",
     "output_type": "stream",
     "text": [
      "p=0.40951\n"
     ]
    }
   ],
   "source": [
    "def task_22():\n",
    "    m = 0\n",
    "    n = 5\n",
    "    p = 0.1\n",
    "    # биномиально распределённая СВ\n",
    "    rv = binom(n, p)\n",
    "    # вероятность заданного числа успехов\n",
    "    p = rv.pmf(m)\n",
    "    return 1 - p\n",
    "\n",
    "\n",
    "proba = task_22()\n",
    "print(f'p={proba:.5f}')"
   ]
  },
  {
   "cell_type": "code",
   "execution_count": 107,
   "metadata": {},
   "outputs": [
    {
     "name": "stderr",
     "output_type": "stream",
     "text": [
      "test_task (__main__.TestNotebook) ... ok\n",
      "\n",
      "----------------------------------------------------------------------\n",
      "Ran 1 test in 0.002s\n",
      "\n",
      "OK\n"
     ]
    },
    {
     "data": {
      "text/plain": [
       "<unittest.main.TestProgram at 0x7f8568e08290>"
      ]
     },
     "execution_count": 107,
     "metadata": {},
     "output_type": "execute_result"
    }
   ],
   "source": [
    "import unittest\n",
    "\n",
    "\n",
    "class TestNotebook(unittest.TestCase):\n",
    "    def test_task(self):\n",
    "        self.assertAlmostEqual(task_22(), 0.40951, places=5)\n",
    "\n",
    "unittest.main(argv=[''], verbosity=2, exit=False)"
   ]
  },
  {
   "cell_type": "markdown",
   "metadata": {},
   "source": [
    "## Задача 23\n",
    "\n",
    "В урне 10 белых, 8 синих и 2 красных шара, извлекают 3 шара. Найти вероятность того, что шары будут одного цвета (сложение вероятностей)"
   ]
  },
  {
   "cell_type": "code",
   "execution_count": 108,
   "metadata": {},
   "outputs": [
    {
     "name": "stdout",
     "output_type": "stream",
     "text": [
      "p=0.15\n"
     ]
    }
   ],
   "source": [
    "def task_23():\n",
    "    p1 = (math.factorial(10)/(math.factorial(3)*math.factorial(10-3))) / (math.factorial(20)/(math.factorial(3)*math.factorial(20-3)))\n",
    "    p2 = (math.factorial(8)/(math.factorial(3)*math.factorial(8-3))) / (math.factorial(20)/(math.factorial(3)*math.factorial(20-3)))\n",
    "    return p1 + p2\n",
    "\n",
    "\n",
    "proba = task_23()\n",
    "print(f'p={proba:.2f}')"
   ]
  },
  {
   "cell_type": "code",
   "execution_count": 109,
   "metadata": {},
   "outputs": [
    {
     "name": "stderr",
     "output_type": "stream",
     "text": [
      "test_task (__main__.TestNotebook) ... ok\n",
      "\n",
      "----------------------------------------------------------------------\n",
      "Ran 1 test in 0.001s\n",
      "\n",
      "OK\n"
     ]
    },
    {
     "data": {
      "text/plain": [
       "<unittest.main.TestProgram at 0x7f8568e1d2d0>"
      ]
     },
     "execution_count": 109,
     "metadata": {},
     "output_type": "execute_result"
    }
   ],
   "source": [
    "import unittest\n",
    "\n",
    "\n",
    "class TestNotebook(unittest.TestCase):\n",
    "    def test_task(self):\n",
    "        self.assertAlmostEqual(task_23(), 0.15, places=2)\n",
    "\n",
    "unittest.main(argv=[''], verbosity=2, exit=False)"
   ]
  },
  {
   "cell_type": "markdown",
   "metadata": {},
   "source": [
    "## Задача 24\n",
    "\n",
    "Телефон находится в одной из комнат с вероятностью 0.5, 0.6, 0.7. Найти вероятность того, что телефон будет найден, если пройтись по всем комнатам. (произведение вероятностей)"
   ]
  },
  {
   "cell_type": "code",
   "execution_count": 110,
   "metadata": {},
   "outputs": [
    {
     "name": "stdout",
     "output_type": "stream",
     "text": [
      "p=0.94\n"
     ]
    }
   ],
   "source": [
    "def task_24():\n",
    "    p1 = 0.5\n",
    "    p2 = 0.6\n",
    "    p3 = 0.7\n",
    "    return 1 - (1-p1)*(1-p2)*(1-p3)\n",
    "\n",
    "proba = task_24()\n",
    "print(f'p={proba:.2f}')"
   ]
  },
  {
   "cell_type": "code",
   "execution_count": 111,
   "metadata": {},
   "outputs": [
    {
     "name": "stderr",
     "output_type": "stream",
     "text": [
      "test_task (__main__.TestNotebook) ... ok\n",
      "\n",
      "----------------------------------------------------------------------\n",
      "Ran 1 test in 0.001s\n",
      "\n",
      "OK\n"
     ]
    },
    {
     "data": {
      "text/plain": [
       "<unittest.main.TestProgram at 0x7f85381a8390>"
      ]
     },
     "execution_count": 111,
     "metadata": {},
     "output_type": "execute_result"
    }
   ],
   "source": [
    "import unittest\n",
    "\n",
    "\n",
    "class TestNotebook(unittest.TestCase):\n",
    "    def test_task(self):\n",
    "        self.assertAlmostEqual(task_24(), 0.94, places=2)\n",
    "\n",
    "unittest.main(argv=[''], verbosity=2, exit=False)"
   ]
  },
  {
   "cell_type": "markdown",
   "metadata": {},
   "source": [
    "### Проверка домашек"
   ]
  },
  {
   "cell_type": "code",
   "execution_count": 112,
   "metadata": {},
   "outputs": [
    {
     "name": "stderr",
     "output_type": "stream",
     "text": [
      "test_task (__main__.TestNotebook) ... ok\n",
      "\n",
      "----------------------------------------------------------------------\n",
      "Ran 1 test in 0.004s\n",
      "\n",
      "OK\n"
     ]
    },
    {
     "data": {
      "text/plain": [
       "<unittest.main.TestProgram at 0x7f85586fc190>"
      ]
     },
     "execution_count": 112,
     "metadata": {},
     "output_type": "execute_result"
    }
   ],
   "source": [
    "import unittest\n",
    "\n",
    "\n",
    "class TestNotebook(unittest.TestCase):\n",
    "    def test_task(self):\n",
    "        self.assertAlmostEqual(task_18(), 0.593, places=3)\n",
    "        self.assertAlmostEqual(task_19(0.05), 0.785361, places=6)\n",
    "        self.assertAlmostEqual(task_20(), 0.5, places=2)\n",
    "        self.assertAlmostEqual(task_21_1(), 0.25, places=2)\n",
    "        self.assertAlmostEqual(task_21_2(), 0.21875, places=5)\n",
    "        self.assertAlmostEqual(task_22(), 0.40951, places=5)\n",
    "        self.assertAlmostEqual(task_23(), 0.15, places=2)\n",
    "        self.assertAlmostEqual(task_24(), 0.94, places=2)\n",
    "        \n",
    "\n",
    "unittest.main(argv=[''], verbosity=2, exit=False)"
   ]
  },
  {
   "cell_type": "markdown",
   "metadata": {},
   "source": [
    "# HW3: случайные величины\n",
    "\n",
    "## Задача 25\n",
    "\n",
    "Каждый день аналитик Сидоров идет на работу. По пути от метро он должен перейти две дороги со светофорами. Один светофор горит красным 60 секунд, зеленым 15 секунд. Второй — 100 секунд красным и 30 секунд зеленым.\n",
    "\n",
    "Вопрос: сколько секунд аналитик Сидоров в среднем тратит на ожидание перед светофором по пути на работу?"
   ]
  },
  {
   "cell_type": "code",
   "execution_count": 113,
   "metadata": {},
   "outputs": [
    {
     "name": "stdout",
     "output_type": "stream",
     "text": [
      "p=62.46\n"
     ]
    }
   ],
   "source": [
    "def task_25():\n",
    "    \n",
    "    p1 = 60/2*(60/(60+15))\n",
    "    p2 = 100/2*(100/(100+30))\n",
    "    return p1+p2\n",
    "\n",
    "proba = task_25()\n",
    "print(f'p={proba:.2f}')\n"
   ]
  },
  {
   "cell_type": "code",
   "execution_count": 114,
   "metadata": {},
   "outputs": [
    {
     "name": "stderr",
     "output_type": "stream",
     "text": [
      "test_task (__main__.TestNotebook) ... ok\n",
      "\n",
      "----------------------------------------------------------------------\n",
      "Ran 1 test in 0.001s\n",
      "\n",
      "OK\n"
     ]
    },
    {
     "data": {
      "text/plain": [
       "<unittest.main.TestProgram at 0x7f85586fc150>"
      ]
     },
     "execution_count": 114,
     "metadata": {},
     "output_type": "execute_result"
    }
   ],
   "source": [
    "import unittest\n",
    "\n",
    "\n",
    "class TestNotebook(unittest.TestCase):\n",
    "    def test_task(self):\n",
    "        self.assertAlmostEqual(task_25(), 62.46, places=2)\n",
    "\n",
    "unittest.main(argv=[''], verbosity=2, exit=False)"
   ]
  },
  {
   "cell_type": "markdown",
   "metadata": {},
   "source": [
    "## Задача 26\n",
    "\n",
    "Какой минимальный платеж нужно установить для новых клиентов Яндекс.Маркета, чтобы этих денег хватило на количество переходов, достаточное для оценки качества трафика с Яндекс.Маркета? Конверсию в продажи для визитов с Яндекс.Маркета считайте равной 3%. Стоимость перехода пусть будет 1р. Объясните ваши расчеты."
   ]
  },
  {
   "cell_type": "code",
   "execution_count": 204,
   "metadata": {},
   "outputs": [
    {
     "name": "stdout",
     "output_type": "stream",
     "text": [
      "p=1118\n"
     ]
    }
   ],
   "source": [
    "def task_26():\n",
    "    \n",
    "    ss = (1.96**2 * 0.03 * (1 - 0.03))/(0.01**2)\n",
    "    pop = 4000000\n",
    "    css = ss/(1 + (ss-1)/pop)\n",
    "    return css\n",
    "\n",
    "proba = task_26()\n",
    "print(f'p={proba:.0f}')"
   ]
  },
  {
   "cell_type": "code",
   "execution_count": 205,
   "metadata": {},
   "outputs": [
    {
     "name": "stderr",
     "output_type": "stream",
     "text": [
      "test_task (__main__.TestNotebook) ... ok\n",
      "\n",
      "----------------------------------------------------------------------\n",
      "Ran 1 test in 0.001s\n",
      "\n",
      "OK\n"
     ]
    },
    {
     "data": {
      "text/plain": [
       "<unittest.main.TestProgram at 0x7f85487690d0>"
      ]
     },
     "execution_count": 205,
     "metadata": {},
     "output_type": "execute_result"
    }
   ],
   "source": [
    "import unittest\n",
    "\n",
    "\n",
    "class TestNotebook(unittest.TestCase):\n",
    "    def test_task(self):\n",
    "        self.assertAlmostEqual(task_26(), 1117.9056, places=0)\n",
    "\n",
    "unittest.main(argv=[''], verbosity=2, exit=False)"
   ]
  }
 ],
 "metadata": {
  "kernelspec": {
   "display_name": "Python 3",
   "language": "python",
   "name": "python3"
  },
  "language_info": {
   "codemirror_mode": {
    "name": "ipython",
    "version": 3
   },
   "file_extension": ".py",
   "mimetype": "text/x-python",
   "name": "python",
   "nbconvert_exporter": "python",
   "pygments_lexer": "ipython3",
   "version": "3.7.7"
  }
 },
 "nbformat": 4,
 "nbformat_minor": 4
}
